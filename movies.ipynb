{
 "cells": [
  {
   "cell_type": "code",
   "execution_count": 1,
   "metadata": {
    "collapsed": true
   },
   "outputs": [],
   "source": [
    "# Movie dataset analysis\n",
    " \n",
    "# 350k+ movies from themoviedb.org\n",
    "# Dataset downloaded from https://www.kaggle.com/stephanerappeneau/350-000-movies-from-themoviedborg/data"
   ]
  },
  {
   "cell_type": "code",
   "execution_count": 2,
   "metadata": {
    "collapsed": true
   },
   "outputs": [],
   "source": [
    "# Import libraries\n",
    "\n",
    "%matplotlib inline\n",
    "import numpy as np\n",
    "import pandas as pd"
   ]
  },
  {
   "cell_type": "code",
   "execution_count": 3,
   "metadata": {},
   "outputs": [
    {
     "data": {
      "text/html": [
       "<div>\n",
       "<style>\n",
       "    .dataframe thead tr:only-child th {\n",
       "        text-align: right;\n",
       "    }\n",
       "\n",
       "    .dataframe thead th {\n",
       "        text-align: left;\n",
       "    }\n",
       "\n",
       "    .dataframe tbody tr th {\n",
       "        vertical-align: top;\n",
       "    }\n",
       "</style>\n",
       "<table border=\"1\" class=\"dataframe\">\n",
       "  <thead>\n",
       "    <tr style=\"text-align: right;\">\n",
       "      <th></th>\n",
       "      <th>id</th>\n",
       "      <th>actor1_name</th>\n",
       "      <th>actor1_gender</th>\n",
       "      <th>actor2_name</th>\n",
       "      <th>actor2_gender</th>\n",
       "      <th>actor3_name</th>\n",
       "      <th>actor3_gender</th>\n",
       "      <th>actor4_name</th>\n",
       "      <th>actor4_gender</th>\n",
       "      <th>actor5_name</th>\n",
       "      <th>actor5_gender</th>\n",
       "      <th>actor_number</th>\n",
       "      <th>director_name</th>\n",
       "      <th>director_gender</th>\n",
       "      <th>director_number</th>\n",
       "      <th>producer_name</th>\n",
       "      <th>producer_number</th>\n",
       "      <th>screeplay_name</th>\n",
       "      <th>editor_name</th>\n",
       "    </tr>\n",
       "  </thead>\n",
       "  <tbody>\n",
       "    <tr>\n",
       "      <th>0</th>\n",
       "      <td>2</td>\n",
       "      <td>Turo Pajala</td>\n",
       "      <td>0</td>\n",
       "      <td>Susanna Haavisto</td>\n",
       "      <td>0.0</td>\n",
       "      <td>Matti Pellonpää</td>\n",
       "      <td>2</td>\n",
       "      <td>Eetu Hilkamo</td>\n",
       "      <td>0</td>\n",
       "      <td>none</td>\n",
       "      <td>0</td>\n",
       "      <td>4</td>\n",
       "      <td>Aki Kaurismäki</td>\n",
       "      <td>0.0</td>\n",
       "      <td>1</td>\n",
       "      <td>none</td>\n",
       "      <td>0</td>\n",
       "      <td>Aki Kaurismäki</td>\n",
       "      <td>Raija Talvio</td>\n",
       "    </tr>\n",
       "    <tr>\n",
       "      <th>1</th>\n",
       "      <td>3</td>\n",
       "      <td>Matti Pellonpää</td>\n",
       "      <td>2</td>\n",
       "      <td>Kati Outinen</td>\n",
       "      <td>1.0</td>\n",
       "      <td>Sakari Kuosmanen</td>\n",
       "      <td>2</td>\n",
       "      <td>Esko Nikkari</td>\n",
       "      <td>2</td>\n",
       "      <td>Kylli Köngäs</td>\n",
       "      <td>0</td>\n",
       "      <td>7</td>\n",
       "      <td>Aki Kaurismäki</td>\n",
       "      <td>0.0</td>\n",
       "      <td>1</td>\n",
       "      <td>Mika Kaurismäki</td>\n",
       "      <td>1</td>\n",
       "      <td>Aki Kaurismäki</td>\n",
       "      <td>Raija Talvio</td>\n",
       "    </tr>\n",
       "    <tr>\n",
       "      <th>2</th>\n",
       "      <td>5</td>\n",
       "      <td>Tim Roth</td>\n",
       "      <td>2</td>\n",
       "      <td>Antonio Banderas</td>\n",
       "      <td>2.0</td>\n",
       "      <td>Jennifer Beals</td>\n",
       "      <td>1</td>\n",
       "      <td>Madonna</td>\n",
       "      <td>1</td>\n",
       "      <td>Marisa Tomei</td>\n",
       "      <td>1</td>\n",
       "      <td>24</td>\n",
       "      <td>Allison Anders</td>\n",
       "      <td>1.0</td>\n",
       "      <td>4</td>\n",
       "      <td>Lawrence Bender</td>\n",
       "      <td>1</td>\n",
       "      <td>none</td>\n",
       "      <td>Margaret Goodspeed</td>\n",
       "    </tr>\n",
       "    <tr>\n",
       "      <th>3</th>\n",
       "      <td>6</td>\n",
       "      <td>Emilio Estevez</td>\n",
       "      <td>2</td>\n",
       "      <td>Cuba Gooding Jr.</td>\n",
       "      <td>2.0</td>\n",
       "      <td>Denis Leary</td>\n",
       "      <td>2</td>\n",
       "      <td>Jeremy Piven</td>\n",
       "      <td>2</td>\n",
       "      <td>Peter Greene</td>\n",
       "      <td>2</td>\n",
       "      <td>15</td>\n",
       "      <td>Stephen Hopkins</td>\n",
       "      <td>2.0</td>\n",
       "      <td>1</td>\n",
       "      <td>Gene Levy</td>\n",
       "      <td>1</td>\n",
       "      <td>Lewis Colick</td>\n",
       "      <td>Tim Wellburn</td>\n",
       "    </tr>\n",
       "    <tr>\n",
       "      <th>4</th>\n",
       "      <td>8</td>\n",
       "      <td>none</td>\n",
       "      <td>0</td>\n",
       "      <td>none</td>\n",
       "      <td>0.0</td>\n",
       "      <td>none</td>\n",
       "      <td>0</td>\n",
       "      <td>none</td>\n",
       "      <td>0</td>\n",
       "      <td>none</td>\n",
       "      <td>0</td>\n",
       "      <td>0</td>\n",
       "      <td>Timo Novotny</td>\n",
       "      <td>0.0</td>\n",
       "      <td>1</td>\n",
       "      <td>Timo Novotny</td>\n",
       "      <td>2</td>\n",
       "      <td>Michael Glawogger</td>\n",
       "      <td>Timo Novotny</td>\n",
       "    </tr>\n",
       "  </tbody>\n",
       "</table>\n",
       "</div>"
      ],
      "text/plain": [
       "   id      actor1_name  actor1_gender       actor2_name  actor2_gender  \\\n",
       "0   2      Turo Pajala              0  Susanna Haavisto            0.0   \n",
       "1   3  Matti Pellonpää              2      Kati Outinen            1.0   \n",
       "2   5         Tim Roth              2  Antonio Banderas            2.0   \n",
       "3   6   Emilio Estevez              2  Cuba Gooding Jr.            2.0   \n",
       "4   8             none              0              none            0.0   \n",
       "\n",
       "        actor3_name  actor3_gender   actor4_name  actor4_gender   actor5_name  \\\n",
       "0   Matti Pellonpää              2  Eetu Hilkamo              0          none   \n",
       "1  Sakari Kuosmanen              2  Esko Nikkari              2  Kylli Köngäs   \n",
       "2    Jennifer Beals              1       Madonna              1  Marisa Tomei   \n",
       "3       Denis Leary              2  Jeremy Piven              2  Peter Greene   \n",
       "4              none              0          none              0          none   \n",
       "\n",
       "   actor5_gender  actor_number    director_name  director_gender  \\\n",
       "0              0             4   Aki Kaurismäki              0.0   \n",
       "1              0             7   Aki Kaurismäki              0.0   \n",
       "2              1            24   Allison Anders              1.0   \n",
       "3              2            15  Stephen Hopkins              2.0   \n",
       "4              0             0     Timo Novotny              0.0   \n",
       "\n",
       "   director_number    producer_name  producer_number     screeplay_name  \\\n",
       "0                1             none                0     Aki Kaurismäki   \n",
       "1                1  Mika Kaurismäki                1     Aki Kaurismäki   \n",
       "2                4  Lawrence Bender                1               none   \n",
       "3                1        Gene Levy                1       Lewis Colick   \n",
       "4                1     Timo Novotny                2  Michael Glawogger   \n",
       "\n",
       "          editor_name  \n",
       "0        Raija Talvio  \n",
       "1        Raija Talvio  \n",
       "2  Margaret Goodspeed  \n",
       "3        Tim Wellburn  \n",
       "4        Timo Novotny  "
      ]
     },
     "execution_count": 3,
     "metadata": {},
     "output_type": "execute_result"
    }
   ],
   "source": [
    "# Load AllMoviesCastingRaw.csv contents into casts dataframe\n",
    "\n",
    "casts = pd.read_csv('AllMoviesCastingRaw.csv', encoding = 'utf-8-sig', sep=';', engine = 'python')\n",
    "casts.head()"
   ]
  },
  {
   "cell_type": "code",
   "execution_count": 4,
   "metadata": {
    "collapsed": true
   },
   "outputs": [],
   "source": [
    "# Information provided by the dataset curator: \n",
    "\n",
    "# AllMoviesCastingRaw.csv contains the main cast (five first billed actors)  \n",
    "# and crew (producer, writer, editor and director) for any movie with id \n",
    "# (unique themoviedb.org movie identifier) in the first column.\n",
    "\n",
    "# gender columns:\n",
    "# 0 -> not available\n",
    "# 1 -> woman\n",
    "# 2 -> man"
   ]
  },
  {
   "cell_type": "code",
   "execution_count": 5,
   "metadata": {},
   "outputs": [
    {
     "data": {
      "text/plain": [
       "(329044, 19)"
      ]
     },
     "execution_count": 5,
     "metadata": {},
     "output_type": "execute_result"
    }
   ],
   "source": [
    "# Number of rows and columns of the casts dataframe\n",
    "\n",
    "casts.shape"
   ]
  },
  {
   "cell_type": "code",
   "execution_count": 6,
   "metadata": {},
   "outputs": [
    {
     "name": "stdout",
     "output_type": "stream",
     "text": [
      "<class 'pandas.core.frame.DataFrame'>\n",
      "RangeIndex: 329044 entries, 0 to 329043\n",
      "Data columns (total 19 columns):\n",
      "id                 329044 non-null int64\n",
      "actor1_name        329044 non-null object\n",
      "actor1_gender      329044 non-null int64\n",
      "actor2_name        329044 non-null object\n",
      "actor2_gender      329043 non-null float64\n",
      "actor3_name        329044 non-null object\n",
      "actor3_gender      329044 non-null int64\n",
      "actor4_name        329044 non-null object\n",
      "actor4_gender      329044 non-null int64\n",
      "actor5_name        329044 non-null object\n",
      "actor5_gender      329044 non-null int64\n",
      "actor_number       329044 non-null int64\n",
      "director_name      329044 non-null object\n",
      "director_gender    329043 non-null float64\n",
      "director_number    329044 non-null int64\n",
      "producer_name      329044 non-null object\n",
      "producer_number    329044 non-null int64\n",
      "screeplay_name     329044 non-null object\n",
      "editor_name        329044 non-null object\n",
      "dtypes: float64(2), int64(8), object(9)\n",
      "memory usage: 36.4+ MB\n"
     ]
    }
   ],
   "source": [
    "# Casts dataframe info \n",
    "\n",
    "casts.info()"
   ]
  },
  {
   "cell_type": "code",
   "execution_count": 7,
   "metadata": {},
   "outputs": [
    {
     "data": {
      "text/plain": [
       "(329044, 8)"
      ]
     },
     "execution_count": 7,
     "metadata": {},
     "output_type": "execute_result"
    }
   ],
   "source": [
    "# Drop columns that will not be used\n",
    "\n",
    "casts = casts.drop(['actor3_name', 'actor3_gender', 'actor4_name', 'actor4_gender', 'actor5_name', 'actor5_gender',\n",
    "                  'actor_number', 'producer_name', 'producer_number', 'screeplay_name', 'editor_name'], axis=1)\n",
    "\n",
    "casts.shape "
   ]
  },
  {
   "cell_type": "code",
   "execution_count": 8,
   "metadata": {},
   "outputs": [
    {
     "data": {
      "text/plain": [
       "329044"
      ]
     },
     "execution_count": 8,
     "metadata": {},
     "output_type": "execute_result"
    }
   ],
   "source": [
    "# Check the number of id unique values \n",
    "\n",
    "casts.id.nunique()"
   ]
  },
  {
   "cell_type": "code",
   "execution_count": 9,
   "metadata": {},
   "outputs": [
    {
     "data": {
      "text/plain": [
       "director_gender\n",
       "0.0    157459\n",
       "1.0     83275\n",
       "2.0     88309\n",
       "dtype: int64"
      ]
     },
     "execution_count": 9,
     "metadata": {},
     "output_type": "execute_result"
    }
   ],
   "source": [
    "# Count the number of directors per gender\n",
    "\n",
    "casts.groupby(['director_gender']).size()"
   ]
  },
  {
   "cell_type": "code",
   "execution_count": 10,
   "metadata": {},
   "outputs": [
    {
     "data": {
      "text/plain": [
       "actor1_gender\n",
       "0    256755\n",
       "1     20602\n",
       "2     51687\n",
       "dtype: int64"
      ]
     },
     "execution_count": 10,
     "metadata": {},
     "output_type": "execute_result"
    }
   ],
   "source": [
    "# Count the number of first billed actors per gender\n",
    "\n",
    "casts.groupby(['actor1_gender']).size()"
   ]
  },
  {
   "cell_type": "code",
   "execution_count": 11,
   "metadata": {},
   "outputs": [
    {
     "data": {
      "text/plain": [
       "actor2_gender\n",
       "0.0    217808\n",
       "1.0     41808\n",
       "2.0     69427\n",
       "dtype: int64"
      ]
     },
     "execution_count": 11,
     "metadata": {},
     "output_type": "execute_result"
    }
   ],
   "source": [
    "# Count the number of second billed actors per gender\n",
    "\n",
    "casts.groupby(['actor2_gender']).size()"
   ]
  },
  {
   "cell_type": "code",
   "execution_count": 12,
   "metadata": {
    "collapsed": true
   },
   "outputs": [],
   "source": [
    "# Gender information is not available for a considerable amount of directors, and first and second billed actors. "
   ]
  },
  {
   "cell_type": "code",
   "execution_count": 13,
   "metadata": {},
   "outputs": [
    {
     "data": {
      "text/html": [
       "<div>\n",
       "<style>\n",
       "    .dataframe thead tr:only-child th {\n",
       "        text-align: right;\n",
       "    }\n",
       "\n",
       "    .dataframe thead th {\n",
       "        text-align: left;\n",
       "    }\n",
       "\n",
       "    .dataframe tbody tr th {\n",
       "        vertical-align: top;\n",
       "    }\n",
       "</style>\n",
       "<table border=\"1\" class=\"dataframe\">\n",
       "  <thead>\n",
       "    <tr style=\"text-align: right;\">\n",
       "      <th></th>\n",
       "      <th>id</th>\n",
       "      <th>budget</th>\n",
       "      <th>genres</th>\n",
       "      <th>imdb_id</th>\n",
       "      <th>original_language</th>\n",
       "      <th>original_title</th>\n",
       "      <th>overview</th>\n",
       "      <th>popularity</th>\n",
       "      <th>production_companies</th>\n",
       "      <th>production_countries</th>\n",
       "      <th>...</th>\n",
       "      <th>runtime</th>\n",
       "      <th>spoken_languages</th>\n",
       "      <th>status</th>\n",
       "      <th>tagline</th>\n",
       "      <th>title</th>\n",
       "      <th>vote_average</th>\n",
       "      <th>vote_count</th>\n",
       "      <th>production_companies_number</th>\n",
       "      <th>production_countries_number</th>\n",
       "      <th>spoken_languages_number</th>\n",
       "    </tr>\n",
       "  </thead>\n",
       "  <tbody>\n",
       "    <tr>\n",
       "      <th>0</th>\n",
       "      <td>2</td>\n",
       "      <td>0</td>\n",
       "      <td>Drama|Crime</td>\n",
       "      <td>tt0094675</td>\n",
       "      <td>fi</td>\n",
       "      <td>Ariel</td>\n",
       "      <td>Taisto Kasurinen is a Finnish coal miner whose...</td>\n",
       "      <td>0.823904</td>\n",
       "      <td>Villealfa Filmproduction Oy</td>\n",
       "      <td>Finland</td>\n",
       "      <td>...</td>\n",
       "      <td>69.0</td>\n",
       "      <td>suomi</td>\n",
       "      <td>Released</td>\n",
       "      <td>NaN</td>\n",
       "      <td>Ariel</td>\n",
       "      <td>7.1</td>\n",
       "      <td>40</td>\n",
       "      <td>2</td>\n",
       "      <td>1</td>\n",
       "      <td>2</td>\n",
       "    </tr>\n",
       "    <tr>\n",
       "      <th>1</th>\n",
       "      <td>3</td>\n",
       "      <td>0</td>\n",
       "      <td>Drama|Comedy</td>\n",
       "      <td>tt0092149</td>\n",
       "      <td>fi</td>\n",
       "      <td>Varjoja paratiisissa</td>\n",
       "      <td>An episode in the life of Nikander, a garbage ...</td>\n",
       "      <td>0.47445</td>\n",
       "      <td>Villealfa Filmproduction Oy</td>\n",
       "      <td>Finland</td>\n",
       "      <td>...</td>\n",
       "      <td>76.0</td>\n",
       "      <td>English</td>\n",
       "      <td>Released</td>\n",
       "      <td>NaN</td>\n",
       "      <td>Shadows in Paradise</td>\n",
       "      <td>7.0</td>\n",
       "      <td>32</td>\n",
       "      <td>1</td>\n",
       "      <td>1</td>\n",
       "      <td>3</td>\n",
       "    </tr>\n",
       "    <tr>\n",
       "      <th>2</th>\n",
       "      <td>5</td>\n",
       "      <td>4000000</td>\n",
       "      <td>Crime|Comedy</td>\n",
       "      <td>tt0113101</td>\n",
       "      <td>en</td>\n",
       "      <td>Four Rooms</td>\n",
       "      <td>It's Ted the Bellhop's first night on the job....</td>\n",
       "      <td>1.698</td>\n",
       "      <td>Miramax Films</td>\n",
       "      <td>United States of America</td>\n",
       "      <td>...</td>\n",
       "      <td>98.0</td>\n",
       "      <td>English</td>\n",
       "      <td>Released</td>\n",
       "      <td>Twelve outrageous guests. Four scandalous requ...</td>\n",
       "      <td>Four Rooms</td>\n",
       "      <td>6.5</td>\n",
       "      <td>485</td>\n",
       "      <td>2</td>\n",
       "      <td>1</td>\n",
       "      <td>1</td>\n",
       "    </tr>\n",
       "    <tr>\n",
       "      <th>3</th>\n",
       "      <td>6</td>\n",
       "      <td>0</td>\n",
       "      <td>Action|Thriller|Crime</td>\n",
       "      <td>tt0107286</td>\n",
       "      <td>en</td>\n",
       "      <td>Judgment Night</td>\n",
       "      <td>While racing to a boxing match, Frank, Mike, J...</td>\n",
       "      <td>1.32287</td>\n",
       "      <td>Universal Pictures</td>\n",
       "      <td>Japan</td>\n",
       "      <td>...</td>\n",
       "      <td>110.0</td>\n",
       "      <td>English</td>\n",
       "      <td>Released</td>\n",
       "      <td>Don't move. Don't whisper. Don't even breathe.</td>\n",
       "      <td>Judgment Night</td>\n",
       "      <td>6.5</td>\n",
       "      <td>69</td>\n",
       "      <td>3</td>\n",
       "      <td>2</td>\n",
       "      <td>1</td>\n",
       "    </tr>\n",
       "    <tr>\n",
       "      <th>4</th>\n",
       "      <td>8</td>\n",
       "      <td>42000</td>\n",
       "      <td>Documentary</td>\n",
       "      <td>tt0825671</td>\n",
       "      <td>en</td>\n",
       "      <td>Life in Loops (A Megacities RMX)</td>\n",
       "      <td>Timo Novotny labels his new project an experim...</td>\n",
       "      <td>0.054716</td>\n",
       "      <td>inLoops</td>\n",
       "      <td>Austria</td>\n",
       "      <td>...</td>\n",
       "      <td>80.0</td>\n",
       "      <td>English</td>\n",
       "      <td>Released</td>\n",
       "      <td>A Megacities remix.</td>\n",
       "      <td>Life in Loops (A Megacities RMX)</td>\n",
       "      <td>6.4</td>\n",
       "      <td>4</td>\n",
       "      <td>1</td>\n",
       "      <td>1</td>\n",
       "      <td>5</td>\n",
       "    </tr>\n",
       "  </tbody>\n",
       "</table>\n",
       "<p>5 rows × 22 columns</p>\n",
       "</div>"
      ],
      "text/plain": [
       "   id   budget                 genres    imdb_id original_language  \\\n",
       "0   2        0            Drama|Crime  tt0094675                fi   \n",
       "1   3        0           Drama|Comedy  tt0092149                fi   \n",
       "2   5  4000000           Crime|Comedy  tt0113101                en   \n",
       "3   6        0  Action|Thriller|Crime  tt0107286                en   \n",
       "4   8    42000            Documentary  tt0825671                en   \n",
       "\n",
       "                     original_title  \\\n",
       "0                             Ariel   \n",
       "1              Varjoja paratiisissa   \n",
       "2                        Four Rooms   \n",
       "3                    Judgment Night   \n",
       "4  Life in Loops (A Megacities RMX)   \n",
       "\n",
       "                                            overview popularity  \\\n",
       "0  Taisto Kasurinen is a Finnish coal miner whose...   0.823904   \n",
       "1  An episode in the life of Nikander, a garbage ...    0.47445   \n",
       "2  It's Ted the Bellhop's first night on the job....      1.698   \n",
       "3  While racing to a boxing match, Frank, Mike, J...    1.32287   \n",
       "4  Timo Novotny labels his new project an experim...   0.054716   \n",
       "\n",
       "          production_companies      production_countries  \\\n",
       "0  Villealfa Filmproduction Oy                   Finland   \n",
       "1  Villealfa Filmproduction Oy                   Finland   \n",
       "2                Miramax Films  United States of America   \n",
       "3           Universal Pictures                     Japan   \n",
       "4                      inLoops                   Austria   \n",
       "\n",
       "            ...            runtime  spoken_languages    status  \\\n",
       "0           ...               69.0             suomi  Released   \n",
       "1           ...               76.0           English  Released   \n",
       "2           ...               98.0           English  Released   \n",
       "3           ...              110.0           English  Released   \n",
       "4           ...               80.0           English  Released   \n",
       "\n",
       "                                             tagline  \\\n",
       "0                                                NaN   \n",
       "1                                                NaN   \n",
       "2  Twelve outrageous guests. Four scandalous requ...   \n",
       "3     Don't move. Don't whisper. Don't even breathe.   \n",
       "4                                A Megacities remix.   \n",
       "\n",
       "                              title vote_average vote_count  \\\n",
       "0                             Ariel          7.1         40   \n",
       "1               Shadows in Paradise          7.0         32   \n",
       "2                        Four Rooms          6.5        485   \n",
       "3                    Judgment Night          6.5         69   \n",
       "4  Life in Loops (A Megacities RMX)          6.4          4   \n",
       "\n",
       "   production_companies_number  production_countries_number  \\\n",
       "0                            2                            1   \n",
       "1                            1                            1   \n",
       "2                            2                            1   \n",
       "3                            3                            2   \n",
       "4                            1                            1   \n",
       "\n",
       "   spoken_languages_number  \n",
       "0                        2  \n",
       "1                        3  \n",
       "2                        1  \n",
       "3                        1  \n",
       "4                        5  \n",
       "\n",
       "[5 rows x 22 columns]"
      ]
     },
     "execution_count": 13,
     "metadata": {},
     "output_type": "execute_result"
    }
   ],
   "source": [
    "# AllMoviesDetailsCleaned.csv contents are loaded into details dataframe\n",
    "\n",
    "details = pd.read_csv('AllMoviesDetailsCleaned.csv', encoding = 'utf-8-sig', sep = \";\",\n",
    "                       parse_dates = [\"release_date\"], engine = \"python\")\n",
    "\n",
    "details.head()"
   ]
  },
  {
   "cell_type": "code",
   "execution_count": 14,
   "metadata": {},
   "outputs": [
    {
     "data": {
      "text/plain": [
       "(329044, 22)"
      ]
     },
     "execution_count": 14,
     "metadata": {},
     "output_type": "execute_result"
    }
   ],
   "source": [
    "# Number of rows and columns of the details dataframe\n",
    "\n",
    "details.shape"
   ]
  },
  {
   "cell_type": "code",
   "execution_count": 15,
   "metadata": {},
   "outputs": [
    {
     "name": "stdout",
     "output_type": "stream",
     "text": [
      "<class 'pandas.core.frame.DataFrame'>\n",
      "RangeIndex: 329044 entries, 0 to 329043\n",
      "Data columns (total 22 columns):\n",
      "id                             329044 non-null int64\n",
      "budget                         329044 non-null int64\n",
      "genres                         207515 non-null object\n",
      "imdb_id                        250564 non-null object\n",
      "original_language              328841 non-null object\n",
      "original_title                 329043 non-null object\n",
      "overview                       278060 non-null object\n",
      "popularity                     329044 non-null object\n",
      "production_companies           329044 non-null object\n",
      "production_countries           329044 non-null object\n",
      "release_date                   304998 non-null datetime64[ns]\n",
      "revenue                        329044 non-null int64\n",
      "runtime                        292252 non-null float64\n",
      "spoken_languages               324584 non-null object\n",
      "status                         327056 non-null object\n",
      "tagline                        52932 non-null object\n",
      "title                          329043 non-null object\n",
      "vote_average                   329044 non-null float64\n",
      "vote_count                     329044 non-null int64\n",
      "production_companies_number    329044 non-null int64\n",
      "production_countries_number    329044 non-null int64\n",
      "spoken_languages_number        329044 non-null int64\n",
      "dtypes: datetime64[ns](1), float64(2), int64(7), object(12)\n",
      "memory usage: 40.2+ MB\n"
     ]
    }
   ],
   "source": [
    "# Details dataframe info \n",
    "\n",
    "details.info()"
   ]
  },
  {
   "cell_type": "code",
   "execution_count": 16,
   "metadata": {},
   "outputs": [
    {
     "data": {
      "text/plain": [
       "(329044, 6)"
      ]
     },
     "execution_count": 16,
     "metadata": {},
     "output_type": "execute_result"
    }
   ],
   "source": [
    "# Dropping columns that will not be used\n",
    "\n",
    "details = details.drop(['budget', 'genres', 'imdb_id', 'overview', 'popularity', 'production_companies', 'production_countries', \n",
    "                      'revenue', 'runtime', 'spoken_languages', 'tagline', 'vote_average', 'vote_count',\n",
    "                      'production_companies_number', 'production_countries_number', 'spoken_languages_number'\n",
    "                     ], axis=1)\n",
    "\n",
    "details.shape "
   ]
  },
  {
   "cell_type": "code",
   "execution_count": 17,
   "metadata": {},
   "outputs": [
    {
     "data": {
      "text/plain": [
       "329044"
      ]
     },
     "execution_count": 17,
     "metadata": {},
     "output_type": "execute_result"
    }
   ],
   "source": [
    "# Check the number of id unique values \n",
    "\n",
    "details.id.nunique()"
   ]
  },
  {
   "cell_type": "code",
   "execution_count": 18,
   "metadata": {},
   "outputs": [
    {
     "name": "stdout",
     "output_type": "stream",
     "text": [
      "1874-12-09 00:00:00 2026-01-01 00:00:00\n"
     ]
    }
   ],
   "source": [
    "# Range of release dates \n",
    "\n",
    "print (min(details['release_date']), max(details['release_date']))"
   ]
  },
  {
   "cell_type": "code",
   "execution_count": 19,
   "metadata": {},
   "outputs": [
    {
     "data": {
      "text/plain": [
       "status\n",
       "Canceled              113\n",
       "In Production         953\n",
       "Planned               745\n",
       "Post Production      1446\n",
       "Released           322567\n",
       "Rumored              1232\n",
       "dtype: int64"
      ]
     },
     "execution_count": 19,
     "metadata": {},
     "output_type": "execute_result"
    }
   ],
   "source": [
    "# Check status categories\n",
    "\n",
    "details.groupby(['status']).size()"
   ]
  },
  {
   "cell_type": "code",
   "execution_count": 20,
   "metadata": {},
   "outputs": [
    {
     "data": {
      "text/html": [
       "<div>\n",
       "<style>\n",
       "    .dataframe thead tr:only-child th {\n",
       "        text-align: right;\n",
       "    }\n",
       "\n",
       "    .dataframe thead th {\n",
       "        text-align: left;\n",
       "    }\n",
       "\n",
       "    .dataframe tbody tr th {\n",
       "        vertical-align: top;\n",
       "    }\n",
       "</style>\n",
       "<table border=\"1\" class=\"dataframe\">\n",
       "  <thead>\n",
       "    <tr style=\"text-align: right;\">\n",
       "      <th></th>\n",
       "      <th>id</th>\n",
       "      <th>original_language</th>\n",
       "      <th>original_title</th>\n",
       "      <th>release_date</th>\n",
       "      <th>status</th>\n",
       "      <th>title</th>\n",
       "      <th>actor1_name</th>\n",
       "      <th>actor1_gender</th>\n",
       "      <th>actor2_name</th>\n",
       "      <th>actor2_gender</th>\n",
       "      <th>director_name</th>\n",
       "      <th>director_gender</th>\n",
       "      <th>director_number</th>\n",
       "    </tr>\n",
       "  </thead>\n",
       "  <tbody>\n",
       "    <tr>\n",
       "      <th>0</th>\n",
       "      <td>2</td>\n",
       "      <td>fi</td>\n",
       "      <td>Ariel</td>\n",
       "      <td>1988-10-21</td>\n",
       "      <td>Released</td>\n",
       "      <td>Ariel</td>\n",
       "      <td>Turo Pajala</td>\n",
       "      <td>0</td>\n",
       "      <td>Susanna Haavisto</td>\n",
       "      <td>0.0</td>\n",
       "      <td>Aki Kaurismäki</td>\n",
       "      <td>0.0</td>\n",
       "      <td>1</td>\n",
       "    </tr>\n",
       "    <tr>\n",
       "      <th>1</th>\n",
       "      <td>3</td>\n",
       "      <td>fi</td>\n",
       "      <td>Varjoja paratiisissa</td>\n",
       "      <td>1986-10-16</td>\n",
       "      <td>Released</td>\n",
       "      <td>Shadows in Paradise</td>\n",
       "      <td>Matti Pellonpää</td>\n",
       "      <td>2</td>\n",
       "      <td>Kati Outinen</td>\n",
       "      <td>1.0</td>\n",
       "      <td>Aki Kaurismäki</td>\n",
       "      <td>0.0</td>\n",
       "      <td>1</td>\n",
       "    </tr>\n",
       "    <tr>\n",
       "      <th>2</th>\n",
       "      <td>5</td>\n",
       "      <td>en</td>\n",
       "      <td>Four Rooms</td>\n",
       "      <td>1995-12-25</td>\n",
       "      <td>Released</td>\n",
       "      <td>Four Rooms</td>\n",
       "      <td>Tim Roth</td>\n",
       "      <td>2</td>\n",
       "      <td>Antonio Banderas</td>\n",
       "      <td>2.0</td>\n",
       "      <td>Allison Anders</td>\n",
       "      <td>1.0</td>\n",
       "      <td>4</td>\n",
       "    </tr>\n",
       "    <tr>\n",
       "      <th>3</th>\n",
       "      <td>6</td>\n",
       "      <td>en</td>\n",
       "      <td>Judgment Night</td>\n",
       "      <td>1993-10-15</td>\n",
       "      <td>Released</td>\n",
       "      <td>Judgment Night</td>\n",
       "      <td>Emilio Estevez</td>\n",
       "      <td>2</td>\n",
       "      <td>Cuba Gooding Jr.</td>\n",
       "      <td>2.0</td>\n",
       "      <td>Stephen Hopkins</td>\n",
       "      <td>2.0</td>\n",
       "      <td>1</td>\n",
       "    </tr>\n",
       "    <tr>\n",
       "      <th>4</th>\n",
       "      <td>8</td>\n",
       "      <td>en</td>\n",
       "      <td>Life in Loops (A Megacities RMX)</td>\n",
       "      <td>2006-01-01</td>\n",
       "      <td>Released</td>\n",
       "      <td>Life in Loops (A Megacities RMX)</td>\n",
       "      <td>none</td>\n",
       "      <td>0</td>\n",
       "      <td>none</td>\n",
       "      <td>0.0</td>\n",
       "      <td>Timo Novotny</td>\n",
       "      <td>0.0</td>\n",
       "      <td>1</td>\n",
       "    </tr>\n",
       "  </tbody>\n",
       "</table>\n",
       "</div>"
      ],
      "text/plain": [
       "   id original_language                    original_title release_date  \\\n",
       "0   2                fi                             Ariel   1988-10-21   \n",
       "1   3                fi              Varjoja paratiisissa   1986-10-16   \n",
       "2   5                en                        Four Rooms   1995-12-25   \n",
       "3   6                en                    Judgment Night   1993-10-15   \n",
       "4   8                en  Life in Loops (A Megacities RMX)   2006-01-01   \n",
       "\n",
       "     status                             title      actor1_name  actor1_gender  \\\n",
       "0  Released                             Ariel      Turo Pajala              0   \n",
       "1  Released               Shadows in Paradise  Matti Pellonpää              2   \n",
       "2  Released                        Four Rooms         Tim Roth              2   \n",
       "3  Released                    Judgment Night   Emilio Estevez              2   \n",
       "4  Released  Life in Loops (A Megacities RMX)             none              0   \n",
       "\n",
       "        actor2_name  actor2_gender    director_name  director_gender  \\\n",
       "0  Susanna Haavisto            0.0   Aki Kaurismäki              0.0   \n",
       "1      Kati Outinen            1.0   Aki Kaurismäki              0.0   \n",
       "2  Antonio Banderas            2.0   Allison Anders              1.0   \n",
       "3  Cuba Gooding Jr.            2.0  Stephen Hopkins              2.0   \n",
       "4              none            0.0     Timo Novotny              0.0   \n",
       "\n",
       "   director_number  \n",
       "0                1  \n",
       "1                1  \n",
       "2                4  \n",
       "3                1  \n",
       "4                1  "
      ]
     },
     "execution_count": 20,
     "metadata": {},
     "output_type": "execute_result"
    }
   ],
   "source": [
    "# Merge casts and details dataframes on id\n",
    "\n",
    "movies = pd.merge(details, casts, on = 'id')\n",
    "\n",
    "movies.head()"
   ]
  },
  {
   "cell_type": "code",
   "execution_count": 21,
   "metadata": {},
   "outputs": [
    {
     "data": {
      "text/plain": [
       "(329044, 13)"
      ]
     },
     "execution_count": 21,
     "metadata": {},
     "output_type": "execute_result"
    }
   ],
   "source": [
    "# Number of rows and columns of the movies dataframe\n",
    "\n",
    "movies.shape"
   ]
  },
  {
   "cell_type": "code",
   "execution_count": 22,
   "metadata": {},
   "outputs": [
    {
     "data": {
      "text/plain": [
       "(322567, 13)"
      ]
     },
     "execution_count": 22,
     "metadata": {},
     "output_type": "execute_result"
    }
   ],
   "source": [
    "# Considering released movies only\n",
    "\n",
    "movies = movies[movies['status'].str.contains('Released', na = False)]\n",
    "\n",
    "movies.shape"
   ]
  },
  {
   "cell_type": "code",
   "execution_count": 23,
   "metadata": {},
   "outputs": [
    {
     "data": {
      "text/plain": [
       "id                       0\n",
       "original_language      201\n",
       "original_title           1\n",
       "release_date         22507\n",
       "status                   0\n",
       "title                    1\n",
       "actor1_name              0\n",
       "actor1_gender            0\n",
       "actor2_name              0\n",
       "actor2_gender            1\n",
       "director_name            0\n",
       "director_gender          1\n",
       "director_number          0\n",
       "dtype: int64"
      ]
     },
     "execution_count": 23,
     "metadata": {},
     "output_type": "execute_result"
    }
   ],
   "source": [
    "# Count of null/NaN occurrences in each column of the movies dataset\n",
    "\n",
    "movies.isnull().sum()"
   ]
  },
  {
   "cell_type": "code",
   "execution_count": 24,
   "metadata": {},
   "outputs": [
    {
     "data": {
      "text/plain": [
       "id                     0\n",
       "original_language    191\n",
       "original_title         1\n",
       "release_date           0\n",
       "status                 0\n",
       "title                  1\n",
       "actor1_name            0\n",
       "actor1_gender          0\n",
       "actor2_name            0\n",
       "actor2_gender          0\n",
       "director_name          0\n",
       "director_gender        0\n",
       "director_number        0\n",
       "dtype: int64"
      ]
     },
     "execution_count": 24,
     "metadata": {},
     "output_type": "execute_result"
    }
   ],
   "source": [
    "# Drop rows whose release dates are null/NaN\n",
    "\n",
    "movies = movies[pd.notnull(movies['release_date'])]\n",
    "movies.isnull().sum()"
   ]
  },
  {
   "cell_type": "code",
   "execution_count": 25,
   "metadata": {},
   "outputs": [
    {
     "data": {
      "text/html": [
       "<div>\n",
       "<style>\n",
       "    .dataframe thead tr:only-child th {\n",
       "        text-align: right;\n",
       "    }\n",
       "\n",
       "    .dataframe thead th {\n",
       "        text-align: left;\n",
       "    }\n",
       "\n",
       "    .dataframe tbody tr th {\n",
       "        vertical-align: top;\n",
       "    }\n",
       "</style>\n",
       "<table border=\"1\" class=\"dataframe\">\n",
       "  <thead>\n",
       "    <tr style=\"text-align: right;\">\n",
       "      <th></th>\n",
       "      <th>id</th>\n",
       "      <th>original_language</th>\n",
       "      <th>original_title</th>\n",
       "      <th>release_date</th>\n",
       "      <th>status</th>\n",
       "      <th>title</th>\n",
       "      <th>actor1_name</th>\n",
       "      <th>actor1_gender</th>\n",
       "      <th>actor2_name</th>\n",
       "      <th>actor2_gender</th>\n",
       "      <th>director_name</th>\n",
       "      <th>director_gender</th>\n",
       "      <th>director_number</th>\n",
       "      <th>release_year</th>\n",
       "    </tr>\n",
       "  </thead>\n",
       "  <tbody>\n",
       "    <tr>\n",
       "      <th>0</th>\n",
       "      <td>2</td>\n",
       "      <td>fi</td>\n",
       "      <td>Ariel</td>\n",
       "      <td>1988-10-21</td>\n",
       "      <td>Released</td>\n",
       "      <td>Ariel</td>\n",
       "      <td>Turo Pajala</td>\n",
       "      <td>0</td>\n",
       "      <td>Susanna Haavisto</td>\n",
       "      <td>0.0</td>\n",
       "      <td>Aki Kaurismäki</td>\n",
       "      <td>0.0</td>\n",
       "      <td>1</td>\n",
       "      <td>1988</td>\n",
       "    </tr>\n",
       "    <tr>\n",
       "      <th>1</th>\n",
       "      <td>3</td>\n",
       "      <td>fi</td>\n",
       "      <td>Varjoja paratiisissa</td>\n",
       "      <td>1986-10-16</td>\n",
       "      <td>Released</td>\n",
       "      <td>Shadows in Paradise</td>\n",
       "      <td>Matti Pellonpää</td>\n",
       "      <td>2</td>\n",
       "      <td>Kati Outinen</td>\n",
       "      <td>1.0</td>\n",
       "      <td>Aki Kaurismäki</td>\n",
       "      <td>0.0</td>\n",
       "      <td>1</td>\n",
       "      <td>1986</td>\n",
       "    </tr>\n",
       "    <tr>\n",
       "      <th>2</th>\n",
       "      <td>5</td>\n",
       "      <td>en</td>\n",
       "      <td>Four Rooms</td>\n",
       "      <td>1995-12-25</td>\n",
       "      <td>Released</td>\n",
       "      <td>Four Rooms</td>\n",
       "      <td>Tim Roth</td>\n",
       "      <td>2</td>\n",
       "      <td>Antonio Banderas</td>\n",
       "      <td>2.0</td>\n",
       "      <td>Allison Anders</td>\n",
       "      <td>1.0</td>\n",
       "      <td>4</td>\n",
       "      <td>1995</td>\n",
       "    </tr>\n",
       "    <tr>\n",
       "      <th>3</th>\n",
       "      <td>6</td>\n",
       "      <td>en</td>\n",
       "      <td>Judgment Night</td>\n",
       "      <td>1993-10-15</td>\n",
       "      <td>Released</td>\n",
       "      <td>Judgment Night</td>\n",
       "      <td>Emilio Estevez</td>\n",
       "      <td>2</td>\n",
       "      <td>Cuba Gooding Jr.</td>\n",
       "      <td>2.0</td>\n",
       "      <td>Stephen Hopkins</td>\n",
       "      <td>2.0</td>\n",
       "      <td>1</td>\n",
       "      <td>1993</td>\n",
       "    </tr>\n",
       "    <tr>\n",
       "      <th>4</th>\n",
       "      <td>8</td>\n",
       "      <td>en</td>\n",
       "      <td>Life in Loops (A Megacities RMX)</td>\n",
       "      <td>2006-01-01</td>\n",
       "      <td>Released</td>\n",
       "      <td>Life in Loops (A Megacities RMX)</td>\n",
       "      <td>none</td>\n",
       "      <td>0</td>\n",
       "      <td>none</td>\n",
       "      <td>0.0</td>\n",
       "      <td>Timo Novotny</td>\n",
       "      <td>0.0</td>\n",
       "      <td>1</td>\n",
       "      <td>2006</td>\n",
       "    </tr>\n",
       "  </tbody>\n",
       "</table>\n",
       "</div>"
      ],
      "text/plain": [
       "   id original_language                    original_title release_date  \\\n",
       "0   2                fi                             Ariel   1988-10-21   \n",
       "1   3                fi              Varjoja paratiisissa   1986-10-16   \n",
       "2   5                en                        Four Rooms   1995-12-25   \n",
       "3   6                en                    Judgment Night   1993-10-15   \n",
       "4   8                en  Life in Loops (A Megacities RMX)   2006-01-01   \n",
       "\n",
       "     status                             title      actor1_name  actor1_gender  \\\n",
       "0  Released                             Ariel      Turo Pajala              0   \n",
       "1  Released               Shadows in Paradise  Matti Pellonpää              2   \n",
       "2  Released                        Four Rooms         Tim Roth              2   \n",
       "3  Released                    Judgment Night   Emilio Estevez              2   \n",
       "4  Released  Life in Loops (A Megacities RMX)             none              0   \n",
       "\n",
       "        actor2_name  actor2_gender    director_name  director_gender  \\\n",
       "0  Susanna Haavisto            0.0   Aki Kaurismäki              0.0   \n",
       "1      Kati Outinen            1.0   Aki Kaurismäki              0.0   \n",
       "2  Antonio Banderas            2.0   Allison Anders              1.0   \n",
       "3  Cuba Gooding Jr.            2.0  Stephen Hopkins              2.0   \n",
       "4              none            0.0     Timo Novotny              0.0   \n",
       "\n",
       "   director_number  release_year  \n",
       "0                1          1988  \n",
       "1                1          1986  \n",
       "2                4          1995  \n",
       "3                1          1993  \n",
       "4                1          2006  "
      ]
     },
     "execution_count": 25,
     "metadata": {},
     "output_type": "execute_result"
    }
   ],
   "source": [
    "# Create release year column\n",
    "\n",
    "movies['release_year'] = movies['release_date'].dt.year.astype('int64')\n",
    "movies.head()"
   ]
  },
  {
   "cell_type": "code",
   "execution_count": 26,
   "metadata": {},
   "outputs": [
    {
     "data": {
      "text/plain": [
       "(299727, 14)"
      ]
     },
     "execution_count": 26,
     "metadata": {},
     "output_type": "execute_result"
    }
   ],
   "source": [
    "# Keep movies released up to 2017-11-08\n",
    "\n",
    "movies = movies[movies['release_date'] < '2017-11-09']\n",
    "movies.shape"
   ]
  },
  {
   "cell_type": "code",
   "execution_count": 27,
   "metadata": {},
   "outputs": [
    {
     "data": {
      "text/plain": [
       "Carmen           35\n",
       "Macbeth          24\n",
       "Home             20\n",
       "Blackout         19\n",
       "Cinderella       19\n",
       "Solo             19\n",
       "Hamlet           19\n",
       "Don Giovanni     18\n",
       "Anna Karenina    18\n",
       "Aida             18\n",
       "Name: original_title, dtype: int64"
      ]
     },
     "execution_count": 27,
     "metadata": {},
     "output_type": "execute_result"
    }
   ],
   "source": [
    "# The ten most common movie titles \n",
    "\n",
    "movies['original_title'].value_counts().head(10)"
   ]
  },
  {
   "cell_type": "code",
   "execution_count": 28,
   "metadata": {
    "collapsed": true
   },
   "outputs": [],
   "source": [
    "# Write the ten most common movie titles to csv file\n",
    "\n",
    "movies['original_title'].value_counts().head(10).to_csv('movieTitles.csv')"
   ]
  },
  {
   "cell_type": "code",
   "execution_count": 29,
   "metadata": {},
   "outputs": [
    {
     "data": {
      "text/plain": [
       "en    196011\n",
       "de     19540\n",
       "fr     13242\n",
       "es     10750\n",
       "ja      8133\n",
       "it      7347\n",
       "pt      5998\n",
       "ru      5065\n",
       "nl      2750\n",
       "zh      2657\n",
       "Name: original_language, dtype: int64"
      ]
     },
     "execution_count": 29,
     "metadata": {},
     "output_type": "execute_result"
    }
   ],
   "source": [
    "# Top ten languages \n",
    "\n",
    "movies['original_language'].value_counts().head(10)"
   ]
  },
  {
   "cell_type": "code",
   "execution_count": 30,
   "metadata": {
    "collapsed": true
   },
   "outputs": [],
   "source": [
    "# Write the top ten movie languages to csv file\n",
    "\n",
    "movies['original_language'].value_counts().head(10).to_csv('movieLanguages.csv')"
   ]
  },
  {
   "cell_type": "code",
   "execution_count": 31,
   "metadata": {},
   "outputs": [
    {
     "data": {
      "text/plain": [
       "1870        2\n",
       "1880       10\n",
       "1890     1026\n",
       "1900     1879\n",
       "1910     3668\n",
       "1920     4796\n",
       "1930    11326\n",
       "1940    10100\n",
       "1950    13082\n",
       "1960    18232\n",
       "1970    22962\n",
       "1980    25968\n",
       "1990    30830\n",
       "2000    66930\n",
       "2010    88916\n",
       "Name: release_year, dtype: int64"
      ]
     },
     "execution_count": 31,
     "metadata": {},
     "output_type": "execute_result"
    }
   ],
   "source": [
    "# Number of movies released in each decade\n",
    "\n",
    "(movies['release_year'] // 10 * 10).value_counts().sort_index()"
   ]
  },
  {
   "cell_type": "code",
   "execution_count": 32,
   "metadata": {},
   "outputs": [
    {
     "data": {
      "text/plain": [
       "<matplotlib.axes._subplots.AxesSubplot at 0xabd9a12c>"
      ]
     },
     "execution_count": 32,
     "metadata": {},
     "output_type": "execute_result"
    },
    {
     "data": {
      "image/png": "[encoded data removed]",
      "text/plain": [
       "<matplotlib.figure.Figure at 0xabd9396c>"
      ]
     },
     "metadata": {},
     "output_type": "display_data"
    }
   ],
   "source": [
    "# Plot: number of movies released in each decade\n",
    "\n",
    "(movies['release_year'] // 10 * 10).value_counts().sort_index().plot(kind='bar')"
   ]
  },
  {
   "cell_type": "code",
   "execution_count": 33,
   "metadata": {
    "collapsed": true
   },
   "outputs": [],
   "source": [
    "# Write the number of movies released in each decade to csv file\n",
    "\n",
    "(movies['release_year'] // 10 * 10).value_counts().sort_index().to_csv('releasesPerDecade.csv')"
   ]
  },
  {
   "cell_type": "code",
   "execution_count": 34,
   "metadata": {},
   "outputs": [
    {
     "data": {
      "text/plain": [
       "<matplotlib.axes._subplots.AxesSubplot at 0xabd9330c>"
      ]
     },
     "execution_count": 34,
     "metadata": {},
     "output_type": "execute_result"
    },
    {
     "data": {
      "image/png": "[encoded data removed]",
      "text/plain": [
       "<matplotlib.figure.Figure at 0xabc8d7ac>"
      ]
     },
     "metadata": {},
     "output_type": "display_data"
    }
   ],
   "source": [
    "# Plot: number of movies released on each day of the week\n",
    "\n",
    "movies['release_date'].dt.weekday_name.value_counts().plot(kind='bar')"
   ]
  },
  {
   "cell_type": "code",
   "execution_count": 35,
   "metadata": {
    "collapsed": true
   },
   "outputs": [],
   "source": [
    "# Write the number of movies released on each day of the week to csv file\n",
    "\n",
    "movies['release_date'].dt.weekday_name.value_counts().to_csv('releasesPerDayOfTheWeek.csv')"
   ]
  },
  {
   "cell_type": "code",
   "execution_count": 36,
   "metadata": {
    "collapsed": true
   },
   "outputs": [],
   "source": [
    "# Remove rows for which first billed actor gender information is not available\n",
    "\n",
    "first_billed_actors = movies[(movies['actor1_gender'] != 0)]"
   ]
  },
  {
   "cell_type": "code",
   "execution_count": 37,
   "metadata": {},
   "outputs": [
    {
     "data": {
      "text/plain": [
       "<matplotlib.axes._subplots.AxesSubplot at 0xabb9328c>"
      ]
     },
     "execution_count": 37,
     "metadata": {},
     "output_type": "execute_result"
    },
    {
     "data": {
      "image/png": "[encoded data removed]",
      "text/plain": [
       "<matplotlib.figure.Figure at 0xabbf308c>"
      ]
     },
     "metadata": {},
     "output_type": "display_data"
    }
   ],
   "source": [
    "# Plot: number of first billed male and female actors by release year\n",
    "# 1: first billed female actors\n",
    "# 2: first billed male actors\n",
    "\n",
    "first_billed_actors = first_billed_actors.groupby(['release_year', 'actor1_gender']).size()\n",
    "first_billed_actors = first_billed_actors.unstack('actor1_gender')\n",
    "first_billed_actors.plot()"
   ]
  },
  {
   "cell_type": "code",
   "execution_count": 38,
   "metadata": {
    "collapsed": true
   },
   "outputs": [],
   "source": [
    "# Replace NaN with 0, convert values to integer and write number of first billed male and female actors \n",
    "# by release year to csv file\n",
    "\n",
    "first_billed_actors = first_billed_actors.fillna(0).astype(int)\n",
    "first_billed_actors.to_csv('firstBilledActors.csv')"
   ]
  },
  {
   "cell_type": "code",
   "execution_count": 39,
   "metadata": {
    "collapsed": true
   },
   "outputs": [],
   "source": [
    "# Remove rows for which second billed actor gender information is not available\n",
    "\n",
    "second_billed_actors = movies[(movies['actor2_gender'] != 0)]"
   ]
  },
  {
   "cell_type": "code",
   "execution_count": 40,
   "metadata": {},
   "outputs": [
    {
     "data": {
      "text/plain": [
       "<matplotlib.axes._subplots.AxesSubplot at 0xabba610c>"
      ]
     },
     "execution_count": 40,
     "metadata": {},
     "output_type": "execute_result"
    },
    {
     "data": {
      "image/png": "[encoded data removed]",
      "text/plain": [
       "<matplotlib.figure.Figure at 0xabb9c9ac>"
      ]
     },
     "metadata": {},
     "output_type": "display_data"
    }
   ],
   "source": [
    "# Plot: number of second billed male and female actors by release year\n",
    "# 1: first billed female actors\n",
    "# 2: first billed male actors\n",
    "\n",
    "second_billed_actors = second_billed_actors.groupby(['release_year', 'actor2_gender']).size()\n",
    "second_billed_actors = second_billed_actors.unstack('actor2_gender')\n",
    "second_billed_actors.plot()"
   ]
  },
  {
   "cell_type": "code",
   "execution_count": 41,
   "metadata": {
    "collapsed": true
   },
   "outputs": [],
   "source": [
    "# Replace NaN with 0, convert values to integer and write number of second billed male and female actors \n",
    "# by release year to csv file\n",
    "\n",
    "second_billed_actors = second_billed_actors.fillna(0).astype(int)\n",
    "second_billed_actors.to_csv('secondBilledActors.csv')"
   ]
  }
 ],
 "metadata": {
  "kernelspec": {
   "display_name": "Python 3",
   "language": "python",
   "name": "python3"
  },
  "language_info": {
   "codemirror_mode": {
    "name": "ipython",
    "version": 3
   },
   "file_extension": ".py",
   "mimetype": "text/x-python",
   "name": "python",
   "nbconvert_exporter": "python",
   "pygments_lexer": "ipython3",
   "version": "3.6.1"
  }
 },
 "nbformat": 4,
 "nbformat_minor": 2
}
